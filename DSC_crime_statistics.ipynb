{
  "nbformat": 4,
  "nbformat_minor": 0,
  "metadata": {
    "colab": {
      "name": "DSC crime_statistics.ipynb",
      "provenance": [],
      "collapsed_sections": [],
      "authorship_tag": "ABX9TyOd7NObzyatmrbu3djaZXTw",
      "include_colab_link": true
    },
    "kernelspec": {
      "name": "python3",
      "display_name": "Python 3"
    },
    "language_info": {
      "name": "python"
    }
  },
  "cells": [
    {
      "cell_type": "markdown",
      "metadata": {
        "id": "view-in-github",
        "colab_type": "text"
      },
      "source": [
        "<a href=\"https://colab.research.google.com/github/compasstar/Crime-statistics/blob/master/DSC_crime_statistics.ipynb\" target=\"_parent\"><img src=\"https://colab.research.google.com/assets/colab-badge.svg\" alt=\"Open In Colab\"/></a>"
      ]
    },
    {
      "cell_type": "code",
      "metadata": {
        "id": "1jafMrwFwoE_",
        "colab": {
          "base_uri": "https://localhost:8080/"
        },
        "outputId": "cb1ff1e4-ec9f-4d6c-e11f-a9575e98be6d"
      },
      "source": [
        "from google.colab import drive\n",
        "drive.mount('/gdrive')\n",
        "%cd /gdrive"
      ],
      "execution_count": null,
      "outputs": [
        {
          "output_type": "stream",
          "name": "stdout",
          "text": [
            "Drive already mounted at /gdrive; to attempt to forcibly remount, call drive.mount(\"/gdrive\", force_remount=True).\n",
            "/gdrive\n"
          ]
        }
      ]
    },
    {
      "cell_type": "code",
      "metadata": {
        "id": "RRUN6bs214o7"
      },
      "source": [
        "# 나눔폰트를 설치하기 (설치 후 Runtime을 재실행 해야 한글을 출력할 수 있습니다.)\n",
        "!sudo apt-get install -y fonts-nanum\n",
        "!sudo fc-cache -fv\n",
        "!rm ~/.cache/matplotlib -rf"
      ],
      "execution_count": null,
      "outputs": []
    },
    {
      "cell_type": "code",
      "metadata": {
        "id": "25Tkz5vmvR_y"
      },
      "source": [
        "import pandas as pd\n",
        "import numpy as np\n",
        "import matplotlib.pyplot as plt\n",
        "import seaborn as sns \n",
        "\n",
        "plt.rc('font', family='NanumBarunGothic') \n",
        "\n",
        "df1 = pd.read_csv('/gdrive/My Drive/DSC_project/범죄발생_시간_2019.csv', encoding='cp949')\n",
        "df2 = pd.read_csv('/gdrive/My Drive/DSC_project/범죄발생_요일_2019.csv', encoding='cp949') \n",
        "df3 = pd.read_csv('/gdrive/My Drive/DSC_project/범죄발생_월_2019.csv', encoding='cp949') \n",
        "df4 = pd.read_csv('/gdrive/My Drive/DSC_project/범죄발생_장소_2019.csv', encoding='cp949') \n",
        "df5 = pd.read_csv('/gdrive/My Drive/DSC_project/범죄발생_지역_2019.csv', encoding='cp949') \n",
        "df6 = pd.read_csv('/gdrive/My Drive/DSC_project/범죄의_공범수_2019.csv', encoding='cp949') \n",
        "df7 = pd.read_csv('/gdrive/My Drive/DSC_project/범죄자_교육정도_2019.csv', encoding='cp949') \n",
        "df8 = pd.read_csv('/gdrive/My Drive/DSC_project/범죄자_국적_2019.csv', encoding='cp949') \n",
        "df9 = pd.read_csv('/gdrive/My Drive/DSC_project/범죄자_범행동기_2019.csv', encoding='cp949') \n",
        "df10 = pd.read_csv('/gdrive/My Drive/DSC_project/범죄자_범행후_은신처_2019.csv', encoding='cp949') \n",
        "df11 = pd.read_csv('/gdrive/My Drive/DSC_project/범죄자_생활정도_2019.csv', encoding='cp949') \n",
        "df12 = pd.read_csv('/gdrive/My Drive/DSC_project/범죄자_성별_2019.csv', encoding='cp949') \n",
        "df13 = pd.read_csv('/gdrive/My Drive/DSC_project/범죄자_연령_2019.csv', encoding='cp949') \n",
        "df14 = pd.read_csv('/gdrive/My Drive/DSC_project/범죄자_자백여부_2019.csv', encoding='cp949') \n",
        "df15 = pd.read_csv('/gdrive/My Drive/DSC_project/범죄자_전과_2019.csv', encoding='cp949') \n",
        "df16 = pd.read_csv('/gdrive/My Drive/DSC_project/범죄자_종교_2019.csv', encoding='cp949') \n",
        "\n",
        "# 데이터를 생활정도에 한정한다 (원래 데이터는 생활정보 외에도 부모, 결혼 여부 등이 들어있었다)\n",
        "df11 = df11[['범죄분류', '생활정도_하류', '생활정도_중류', '생활정도_상류', '생활정도_미상']]\n",
        "\n",
        "df_list = [df1, df2, df3, df4, df5, df6, df7, df8, df9, df10, df11, df12, df13, df14, df15, df16]"
      ],
      "execution_count": null,
      "outputs": []
    },
    {
      "cell_type": "code",
      "metadata": {
        "id": "z62rWC_Kytyu"
      },
      "source": [
        "# 데이터 병합\n",
        "\n",
        "merge_data = df1['범죄분류']\n",
        "\n",
        "for df in df_list:\n",
        "  merge_data = pd.merge(merge_data, df, how='outer', on='범죄분류')\n",
        "\n",
        "merge_data.head()"
      ],
      "execution_count": null,
      "outputs": []
    },
    {
      "cell_type": "code",
      "metadata": {
        "id": "LKUUHMXH15XT"
      },
      "source": [
        "# 1:시간, 2:요일, 3:월, 4:장소, 5:지역, 6:공범수, 7:교육정도, 8:국적, 9:범행동기, 10:범행후 은신처, 11:생활정도, 12:성별, 13:연령, 14:자백여부, 15:전과, 16:종교\n",
        "\n",
        "\n",
        "# CRUD\n",
        "\n",
        "# create\n",
        "def crime_create(index, inform):\n",
        "\n",
        "  new_data = {'범죄분류':inform[0], '00시00분-02시59분':inform[1], '03시00분-05시59분':inform[2], '06시00분-08시59분':inform[3], '09시00분-11시59분':inform[4], '12시00분-14시59분':inform[5], '15시00분-17시59분':inform[6], '18시00분-20시59분':inform[7], '21시00분-23시59분':inform[8], '미상':inform[9]}\n",
        "  df_list[index-1] = df_list[index-1].append(new_data, ignore_index = True)\n",
        "\n",
        "\n",
        "# retrieve\n",
        "def crime_retrieve(index, inform):\n",
        "  if inform == 'ALL':\n",
        "    print()\n",
        "    print(df_list[index-1])\n",
        "    print()\n",
        "  else:\n",
        "    print()\n",
        "    print(df_list[index-1][inform])\n",
        "    print()\n",
        "  \n",
        "\n",
        "# upadate\n",
        "def crime_update(index, inform):\n",
        "  # inform[0] 범죄종류, inform[1] 항목, inform[2] 값\n",
        "  df_list[index-1].loc[df_list[index-1]['범죄분류']==inform[0], inform[1]] = inform[2]\n",
        "\n",
        "# delete\n",
        "def crime_delete(index, inform):\n",
        "\n",
        "  inform_index = df_list[index-1][df_list[index-1]['범죄분류']==inform].index\n",
        "  print(\"무엇일까 \", inform_index)\n",
        "\n",
        "  df_list[index-1] = df_list[index-1].drop(inform_index)\n",
        "\n",
        "\n",
        "# graph\n",
        "def crime_graph(index, inform):\n",
        "\n",
        "  df = df_list[0][df_list[0]['범죄분류'] == inform]\n",
        "  \n",
        "  x = df.columns.values.tolist()[1:]\n",
        "  y = list(df.iloc[0,:])[1:]\n",
        "  \n",
        "  plt.bar(x,y)\n",
        "  plt.show()\n",
        "\n",
        "# 대처법\n",
        "def crime_dealing(inform):\n",
        "  print(\"뉴스기사: https://www.bigkinds.or.kr/v2/news/search.do;Bigkinds=FAE9F910F355F1F3265170408883D92D\")\n",
        "  "
      ],
      "execution_count": null,
      "outputs": []
    },
    {
      "cell_type": "code",
      "metadata": {
        "id": "g0YX9kaeomXI"
      },
      "source": [
        "df1"
      ],
      "execution_count": null,
      "outputs": []
    },
    {
      "cell_type": "code",
      "metadata": {
        "colab": {
          "base_uri": "https://localhost:8080/"
        },
        "id": "-TRgMKfv50Wf",
        "outputId": "0ccf746c-7ee3-44a8-ca35-82d4f022e84f"
      },
      "source": [
        "\n",
        "while True:\n",
        "  print(\"\\n*************************\")\n",
        "  print(\"1. Create\\n2. Retreive\\n3. Updata\\n4. Delete\\n5. Show graph\\n6. Show relation\\n7. Exit\")\n",
        "  print(\"*************************\")\n",
        "\n",
        "  cmd = int(input(\"Enter the number \"))\n",
        "  if cmd == 7:\n",
        "    print(\"프로그램을 종료합니다\")\n",
        "    break\n",
        "  index = int(input(\"select category: '1:시간, 2:요일, 3:월, 4:장소, 5:지역, 6:공범수, 7:교육정도, 8:국적, 9:범행동기, 10:범행후 은신처, 11:생활정도, 12:성별, 13:연령, 14:자백여부, 15:전과, 16:종교'  \"))\n",
        "\n",
        "  # create\n",
        "  if cmd == 1:\n",
        "    inform = list(input(\"input information: '범죄분류' '00시00분-02시59분' '03시00분-05시59분' '06시00분-08시59분' '09시00분-11시59분' '12시00분-14시59분' '15시00분-17시59분' '18시00분-20시59분', '21시00분-23시59분', '미상'  \").split())\n",
        "    print()\n",
        "    crime_create(index, inform)\n",
        "  # retrieve\n",
        "  elif cmd == 2:\n",
        "    inform = input(\"원하는 정보를 입력하세요(ALL이라고 적으면 전부 출력합니다): '범죄분류' '00시00분-02시59분' '03시00분-05시59분' '06시00분-08시59분' '09시00분-11시59분' '12시00분-14시59분' '15시00분-17시59분' '18시00분-20시59분', '21시00분-23시59분', '미상'  \")\n",
        "    crime_retrieve(index, inform)\n",
        "  # update\n",
        "  elif cmd == 3:\n",
        "    inform = list(input(\"수정하고자 하는 범죄분류를 택하고 항목과 값을 입력하세요 (예시: 절도 미상 1): \").split())\n",
        "    crime_update(index, inform)\n",
        "  # delete\n",
        "  elif cmd == 4:\n",
        "    inform = input(\"지우고자 하는 범죄분류를 선택하세요 (예시: 절도)  \")\n",
        "    crime_delete(index, inform)\n",
        "  # graph\n",
        "  elif cmd == 5:\n",
        "    inform = input(\"그리고자 하는 범죄분류를 선택하세요 (예시: 절도)  \")\n",
        "    crime_graph(index, inform)\n",
        "  # 대처법\n",
        "  elif cmd == 6:\n",
        "    inform = input(\"뉴스에서 검색하고자 하는 범죄분류를 선택하세요 (예시: 절도)  \")\n",
        "    crime_dealing(inform)\n",
        "  else:\n",
        "    print(\"올바른 숫자를 입력하세요\")\n",
        "    continue\n",
        "    \n",
        "\n",
        "\n"
      ],
      "execution_count": null,
      "outputs": [
        {
          "output_type": "stream",
          "name": "stdout",
          "text": [
            "\n",
            "*************************\n",
            "1. Create\n",
            "2. Retreive\n",
            "3. Updata\n",
            "4. Delete\n",
            "5. Show graph\n",
            "6. Show relation\n",
            "7. Exit\n",
            "*************************\n",
            "Enter the number 6\n",
            "select category: '1:시간, 2:요일, 3:월, 4:장소, 5:지역, 6:공범수, 7:교육정도, 8:국적, 9:범행동기, 10:범행후 은신처, 11:생활정도, 12:성별, 13:연령, 14:자백여부, 15:전과, 16:종교'  1\n",
            "뉴스에서 검색하고자 하는 범죄분류를 선택하세요 (예시: 절도)  절도\n",
            "뉴스기사: https://www.bigkinds.or.kr/v2/news/search.do;Bigkinds=FAE9F910F355F1F3265170408883D92D\n",
            "\n",
            "*************************\n",
            "1. Create\n",
            "2. Retreive\n",
            "3. Updata\n",
            "4. Delete\n",
            "5. Show graph\n",
            "6. Show relation\n",
            "7. Exit\n",
            "*************************\n",
            "Enter the number 7\n",
            "프로그램을 종료합니다\n"
          ]
        }
      ]
    },
    {
      "cell_type": "code",
      "metadata": {
        "colab": {
          "base_uri": "https://localhost:8080/",
          "height": 202
        },
        "id": "rTaEu9-3ICvJ",
        "outputId": "fe20575b-8cb0-42e9-a0fb-76a4eb3bc1ac"
      },
      "source": [
        "df_list[0].head()"
      ],
      "execution_count": null,
      "outputs": [
        {
          "output_type": "execute_result",
          "data": {
            "text/html": [
              "<div>\n",
              "<style scoped>\n",
              "    .dataframe tbody tr th:only-of-type {\n",
              "        vertical-align: middle;\n",
              "    }\n",
              "\n",
              "    .dataframe tbody tr th {\n",
              "        vertical-align: top;\n",
              "    }\n",
              "\n",
              "    .dataframe thead th {\n",
              "        text-align: right;\n",
              "    }\n",
              "</style>\n",
              "<table border=\"1\" class=\"dataframe\">\n",
              "  <thead>\n",
              "    <tr style=\"text-align: right;\">\n",
              "      <th></th>\n",
              "      <th>범죄분류</th>\n",
              "      <th>00시00분-02시59분</th>\n",
              "      <th>03시00분-05시59분</th>\n",
              "      <th>06시00분-08시59분</th>\n",
              "      <th>09시00분-11시59분</th>\n",
              "      <th>12시00분-14시59분</th>\n",
              "      <th>15시00분-17시59분</th>\n",
              "      <th>18시00분-20시59분</th>\n",
              "      <th>21시00분-23시59분</th>\n",
              "      <th>미상</th>\n",
              "    </tr>\n",
              "  </thead>\n",
              "  <tbody>\n",
              "    <tr>\n",
              "      <th>0</th>\n",
              "      <td>절도</td>\n",
              "      <td>13095</td>\n",
              "      <td>14176</td>\n",
              "      <td>13104</td>\n",
              "      <td>21763</td>\n",
              "      <td>27242</td>\n",
              "      <td>28582</td>\n",
              "      <td>27272</td>\n",
              "      <td>20587</td>\n",
              "      <td>21808</td>\n",
              "    </tr>\n",
              "    <tr>\n",
              "      <th>1</th>\n",
              "      <td>살인</td>\n",
              "      <td>49</td>\n",
              "      <td>73</td>\n",
              "      <td>49</td>\n",
              "      <td>86</td>\n",
              "      <td>97</td>\n",
              "      <td>96</td>\n",
              "      <td>110</td>\n",
              "      <td>132</td>\n",
              "      <td>155</td>\n",
              "    </tr>\n",
              "    <tr>\n",
              "      <th>2</th>\n",
              "      <td>강도</td>\n",
              "      <td>112</td>\n",
              "      <td>133</td>\n",
              "      <td>45</td>\n",
              "      <td>66</td>\n",
              "      <td>75</td>\n",
              "      <td>72</td>\n",
              "      <td>86</td>\n",
              "      <td>112</td>\n",
              "      <td>144</td>\n",
              "    </tr>\n",
              "    <tr>\n",
              "      <th>3</th>\n",
              "      <td>방화</td>\n",
              "      <td>142</td>\n",
              "      <td>151</td>\n",
              "      <td>102</td>\n",
              "      <td>120</td>\n",
              "      <td>107</td>\n",
              "      <td>168</td>\n",
              "      <td>187</td>\n",
              "      <td>227</td>\n",
              "      <td>141</td>\n",
              "    </tr>\n",
              "    <tr>\n",
              "      <th>4</th>\n",
              "      <td>성폭력</td>\n",
              "      <td>3061</td>\n",
              "      <td>3332</td>\n",
              "      <td>2233</td>\n",
              "      <td>2317</td>\n",
              "      <td>2539</td>\n",
              "      <td>3204</td>\n",
              "      <td>3920</td>\n",
              "      <td>5048</td>\n",
              "      <td>6375</td>\n",
              "    </tr>\n",
              "  </tbody>\n",
              "</table>\n",
              "</div>"
            ],
            "text/plain": [
              "  범죄분류  00시00분-02시59분  03시00분-05시59분  ...  18시00분-20시59분  21시00분-23시59분     미상\n",
              "0   절도          13095          14176  ...          27272          20587  21808\n",
              "1   살인             49             73  ...            110            132    155\n",
              "2   강도            112            133  ...             86            112    144\n",
              "3   방화            142            151  ...            187            227    141\n",
              "4  성폭력           3061           3332  ...           3920           5048   6375\n",
              "\n",
              "[5 rows x 10 columns]"
            ]
          },
          "metadata": {},
          "execution_count": 141
        }
      ]
    },
    {
      "cell_type": "code",
      "metadata": {
        "id": "-Ar4yig5_Zgm"
      },
      "source": [
        "df_list[0].loc[df_list[0]['범죄분류']=='절도', '미상'] = 1"
      ],
      "execution_count": null,
      "outputs": []
    },
    {
      "cell_type": "code",
      "metadata": {
        "id": "sktdtvGmIbYs"
      },
      "source": [
        "df_list[0]"
      ],
      "execution_count": null,
      "outputs": []
    }
  ]
}